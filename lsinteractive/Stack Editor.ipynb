{
 "cells": [
  {
   "cell_type": "code",
   "execution_count": 1,
   "metadata": {},
   "outputs": [],
   "source": [
    "import logging\n",
    "from pathlib import Path\n",
    "\n",
    "logger = logging.getLogger()\n",
    "\n",
    "from layerstack import ArgMode, Layer, Stack\n",
    "from lsinteractive import lswidgets\n",
    "\n",
    "# ----------------------------------------------------------\n",
    "# List locations where layers and stacks are/will be stored\n",
    "# ----------------------------------------------------------\n",
    "\n",
    "layer_library_dirs = {\n",
    "    \"lstests\" : lswidgets.ls_base_dir / 'tests' / 'layer_library',\n",
    "    # \"library_name\" : Path(\"path/to/layer/library/dir\")\n",
    "}\n",
    "\n",
    "stack_library_dirs = {\n",
    "    \"lstests\" : lswidgets.ls_base_dir / 'tests' / 'stack_library',\n",
    "    # \"library_name\" : Path(\"path/to/stack/library/dir\")\n",
    "}\n",
    "\n",
    "# whether mkdir() should be attempted for any library locations \n",
    "# that do not yet exist\n",
    "try_mkdir = True\n",
    "\n",
    "# ----------------------------------------------------------\n",
    "# Set up logging\n",
    "# ----------------------------------------------------------\n",
    "\n",
    "log_level = logging.INFO\n",
    "logging.basicConfig(level=log_level)"
   ]
  },
  {
   "cell_type": "markdown",
   "metadata": {},
   "source": [
    "## Set-Up"
   ]
  },
  {
   "cell_type": "code",
   "execution_count": 2,
   "metadata": {},
   "outputs": [
    {
     "name": "stderr",
     "output_type": "stream",
     "text": [
      "INFO:lsinteractive.lswidgets:Upating StackEditorData.layer_library_dirs\n",
      "INFO:lsinteractive.lswidgets:Upating StackEditorData.stack_library_dirs\n"
     ]
    }
   ],
   "source": [
    "# Only keep those library locations that exist or can be made\n",
    "\n",
    "def path_exists(key, library_dirs = {}, library_type = '', try_mkdir = True):\n",
    "    assert key in library_dirs, (key, library_dirs)\n",
    "    if library_dirs[key].exists():\n",
    "        return True\n",
    "    if try_mkdir:\n",
    "        try:\n",
    "            library_dirs[key].mkdir()\n",
    "        except:\n",
    "            logger.info(f\"Unable to make {library_dirs[key]}.\")\n",
    "    logger.info(f\"Removing {key} from the list of {library_type} libraries, \"\n",
    "                f\"because {library_dirs[key]} does not exist.\")\n",
    "    return False       \n",
    "\n",
    "def filter_library_dirs(library_dirs, library_type, try_mkdir=True):\n",
    "    return {\n",
    "        key: library_dirs[key] for key in filter(\n",
    "            lambda key, x=library_dirs, y=library_type, z=try_mkdir: \n",
    "                path_exists(key, library_dirs=x, library_type=y, try_mkdir=z),\n",
    "            library_dirs)\n",
    "    }\n",
    "\n",
    "layer_library_dirs = filter_library_dirs(layer_library_dirs, 'layer', try_mkdir = try_mkdir)\n",
    "stack_library_dirs = filter_library_dirs(stack_library_dirs, 'stack', try_mkdir = try_mkdir)\n",
    "\n",
    "# register our library dirs\n",
    "sed = lswidgets.StackEditorData(layer_library_dirs = layer_library_dirs, stack_library_dirs = stack_library_dirs)"
   ]
  },
  {
   "cell_type": "markdown",
   "metadata": {},
   "source": [
    "## Table of Contents\n",
    "\n",
    "- [Create a Stack](Create-a-Stack) \n",
    "- [Edit a Stack](Edit-a-Stack) \n",
    "- [Run a Stack](Run-a-Stack) \n",
    "- [Manage a Stack Library](Manage-a-Stack-Library)"
   ]
  },
  {
   "cell_type": "markdown",
   "metadata": {},
   "source": [
    "## Create a Stack"
   ]
  },
  {
   "cell_type": "code",
   "execution_count": 4,
   "metadata": {},
   "outputs": [
    {
     "data": {
      "text/plain": [
       "{'lstests': WindowsPath('C:/projects/layerstack/tests/layer_library')}"
      ]
     },
     "execution_count": 4,
     "metadata": {},
     "output_type": "execute_result"
    }
   ],
   "source": [
    "sc = lswidgets.StackCreator(lswidgets.SingleStackEditorWithTemplateData())\n",
    "sc._model.layer_library_dirs"
   ]
  },
  {
   "cell_type": "markdown",
   "metadata": {},
   "source": [
    "## Edit a Stack"
   ]
  },
  {
   "cell_type": "markdown",
   "metadata": {},
   "source": [
    "### Choose Stack, set layers, and paths"
   ]
  },
  {
   "cell_type": "code",
   "execution_count": null,
   "metadata": {},
   "outputs": [],
   "source": []
  },
  {
   "cell_type": "markdown",
   "metadata": {},
   "source": [
    "### Edit layer arguments"
   ]
  },
  {
   "cell_type": "code",
   "execution_count": null,
   "metadata": {},
   "outputs": [],
   "source": []
  },
  {
   "cell_type": "markdown",
   "metadata": {},
   "source": [
    "### View summary"
   ]
  },
  {
   "cell_type": "code",
   "execution_count": null,
   "metadata": {},
   "outputs": [],
   "source": []
  },
  {
   "cell_type": "markdown",
   "metadata": {},
   "source": [
    "## Run a Stack"
   ]
  },
  {
   "cell_type": "code",
   "execution_count": null,
   "metadata": {},
   "outputs": [],
   "source": []
  },
  {
   "cell_type": "markdown",
   "metadata": {},
   "source": [
    "## Manage a Stack Library"
   ]
  },
  {
   "cell_type": "code",
   "execution_count": null,
   "metadata": {},
   "outputs": [],
   "source": []
  }
 ],
 "metadata": {
  "kernelspec": {
   "display_name": "Python 3",
   "language": "python",
   "name": "python3"
  },
  "language_info": {
   "codemirror_mode": {
    "name": "ipython",
    "version": 3
   },
   "file_extension": ".py",
   "mimetype": "text/x-python",
   "name": "python",
   "nbconvert_exporter": "python",
   "pygments_lexer": "ipython3",
   "version": "3.6.4"
  }
 },
 "nbformat": 4,
 "nbformat_minor": 2
}
